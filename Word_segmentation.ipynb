{
 "cells": [
  {
   "cell_type": "code",
   "execution_count": 1,
   "metadata": {},
   "outputs": [],
   "source": [
    "import Khmer_wordsegment"
   ]
  },
  {
   "cell_type": "code",
   "execution_count": 2,
   "metadata": {},
   "outputs": [],
   "source": [
    "text = \"ទឹកត្រីដែលឆ្ងាញ់ គឺធ្វើមកពីត្រីដែលរស់នៅក្នុងទឹកប្រៃ\" "
   ]
  },
  {
   "cell_type": "code",
   "execution_count": 3,
   "metadata": {},
   "outputs": [],
   "source": [
    "sentence = Khmer_wordsegment.AngkorSegmentation(text)"
   ]
  },
  {
   "cell_type": "code",
   "execution_count": 4,
   "metadata": {},
   "outputs": [],
   "source": [
    "d = sentence.check_words()"
   ]
  },
  {
   "cell_type": "code",
   "execution_count": 5,
   "metadata": {},
   "outputs": [
    {
     "name": "stdout",
     "output_type": "stream",
     "text": [
      "['ទឹកត្រី', 'ដែល', 'ឆ្ងាញ់', 'គឺ', 'ធ្វើ', 'មកពី', 'ត្រី', 'ដែល', 'រស់នៅ', 'ក្នុងទឹក', 'ប្រៃ']\n"
     ]
    }
   ],
   "source": [
    "print(d)"
   ]
  },
  {
   "cell_type": "code",
   "execution_count": 6,
   "metadata": {},
   "outputs": [
    {
     "name": "stdout",
     "output_type": "stream",
     "text": [
      "Original Text:  ទឹកត្រីដែលឆ្ងាញ់ គឺធ្វើមកពីត្រីដែលរស់នៅក្នុងទឹកប្រៃ\n",
      "Segment: ['ទឹកត្រី', 'ដែល', 'ឆ្ងាញ់', 'គឺ', 'ធ្វើ', 'មកពី', 'ត្រី', 'ដែល', 'រស់នៅ', 'ក្នុងទឹក', ' ប្រៃ']\n",
      "ZeroSpace : [ទឹកត្រី​ដែល​ឆ្ងាញ់​គឺ​ធ្វើ​មកពី​ត្រី​ដែល​រស់នៅ​ក្នុងទឹក​ប្រៃ]\n",
      "Total Words: 11\n"
     ]
    }
   ],
   "source": [
    "sentence.show()"
   ]
  }
 ],
 "metadata": {
  "kernelspec": {
   "display_name": "Python 3",
   "language": "python",
   "name": "python3"
  },
  "language_info": {
   "codemirror_mode": {
    "name": "ipython",
    "version": 3
   },
   "file_extension": ".py",
   "mimetype": "text/x-python",
   "name": "python",
   "nbconvert_exporter": "python",
   "pygments_lexer": "ipython3",
   "version": "3.8.5"
  }
 },
 "nbformat": 4,
 "nbformat_minor": 2
}
