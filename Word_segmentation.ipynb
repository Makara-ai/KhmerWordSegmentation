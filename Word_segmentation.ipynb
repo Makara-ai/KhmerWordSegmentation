{
 "cells": [
  {
   "cell_type": "code",
   "execution_count": 1,
   "metadata": {},
   "outputs": [],
   "source": [
    "import re\n",
    "import csv\n",
    "from Khmer_wordsegment import AngkorSegmentation"
   ]
  },
  {
   "cell_type": "code",
   "execution_count": 3,
   "metadata": {},
   "outputs": [],
   "source": [
    "with open(r'read_texts\\voa_khmer.txt', 'r', encoding='utf-8-sig') as f:\n",
    "    text = f.read().replace('\\u200b', '')  # remove the '\\u200b' character\n",
    "    sentence = AngkorSegmentation(text)"
   ]
  },
  {
   "cell_type": "code",
   "execution_count": 5,
   "metadata": {},
   "outputs": [],
   "source": [
    "segmented_text = sentence.check_words()"
   ]
  },
  {
   "cell_type": "code",
   "execution_count": 7,
   "metadata": {},
   "outputs": [
    {
     "name": "stdout",
     "output_type": "stream",
     "text": [
      "\u001b[1mOriginal Text:\u001b[0m ព័ត៌មាននៅថ្ងៃនេះមានដូចជា អ្នកគាំទ្ររៃអង្គាសប្រាក់ឱ្យលោក រ៉ុង ឈុន ក្រោយតុលាការបង្គាប់ឱ្យបង់ប្រាក់៤០០លានរៀលទៅមន្ត្រីព្រំដែន។ បទសម្ភាសន៍ VOA ជាមួយលោក ឃុន ថារ៉ូ ប្រធានកម្មវិធីការងារនៃអង្គការសង់ត្រាល់ អំពី អវត្តមានUSAID នឹងធ្វើឱ្យប៉ះពាល់ដល់ដំណើរការប្រជាធិបតេយ្យនៅកម្ពុជា និងព័ត៌មានផ្សេងៗទៀត៕\n",
      "\u001b[1msegmentation:\u001b[0m  [\"ព័ត៌មាន, pos:'ន.'\", \"នៅថ្ងៃនេះ, pos:'N/A'\", \"មានដូចជា, pos:'N/A'\", \"អ្នកគាំទ្រ, pos:'N/A'\", \"រៃអង្គាសប្រាក់, pos:'N/A'\", \"ឱ្យ, pos:'កិ.'\", \"លោក, pos:'ន.'\", \"រ៉, pos:'កិ.'\", \"ុ, pos:'N/A'\", \"ង, pos:'ន.'\", \"ឈុន, pos:'N/A'\", \"ក្រោយ, pos:'ធ., គុ.កិ.'\", \"តុលាការ, pos:'ន.'\", \"បង្គាប់, pos:'កិ.'\", \"ឱ្យ, pos:'កិ.'\", \"បង់ប្រាក់, pos:'N/A'\", \"៤០០, pos:'N/A'\", \"លាន, pos:'គុ.'\", \"រៀល, pos:'កិ.'\", \"ទៅ, pos:'កិ.'\", \"មន្ត្រី, pos:'ន.'\", \"ព្រំដែន, pos:'ន.'\", \"។ , pos:'N/A'\", \"បទសម្ភាសន៍, pos:'N/A'\", \"ជាមួយ, pos:'ធ.'\", \"លោក, pos:'ន.'\", \"ឃុន, pos:'ន.'\", \"ថា, pos:'កិ.'\", \"រ៉, pos:'កិ.'\", \"ូ , pos:'N/A'\", \"ប្រធាន, pos:'ន.'\", \"កម្មវិធី, pos:'ន.'\", \"ការងារ, pos:'ន.'\", \"នៃ, pos:'ធ.'\", \"អង្គការ, pos:'ន.'\", \"សង់ត្រាល់, pos:'N/A'\", \"អំពី, pos:'ធ.'\", \"អវត្តមាន, pos:'ន.'\", \"នឹងធ្វើ, pos:'N/A'\", \"ឱ្យ, pos:'កិ.'\", \"ប៉ះពាល់, pos:'កិ.'\", \"ដល់, pos:'ធ.'\", \"ដំណើរការ, pos:'ន.'\", \"ប្រជាធិបតេយ្យ, pos:'ន.'\", \"នៅ, pos:'កិ.'\", \"កម្ពុជា, pos:'ន.'\", \"និង, pos:'ឈ.'\", \"ព័ត៌មាន, pos:'ន.'\", \"ផ្សេង, pos:'គុ.'\", \"ៗ, pos:'N/A'\", \"ទៀត, pos:'គុ.កិ.'\", \"៕, pos:'N/A'\"]\n",
      "\u001b[1mZeroSpace : \u001b[0m [ព័ត៌មាន​នៅថ្ងៃនេះ​មានដូចជា​អ្នកគាំទ្រ​រៃអង្គាសប្រាក់​ឱ្យ​លោក​រ៉​ុ​ង​ឈុន​ក្រោយ​តុលាការ​បង្គាប់​ឱ្យ​បង់ប្រាក់​៤០០​លាន​រៀល​ទៅ​មន្ត្រី​ព្រំដែន​។ ​បទសម្ភាសន៍​ជាមួយ​លោក​ឃុន​ថា​រ៉​ូ ​ប្រធាន​កម្មវិធី​ការងារ​នៃ​អង្គការ​សង់ត្រាល់​អំពី​អវត្តមាន​នឹងធ្វើ​ឱ្យ​ប៉ះពាល់​ដល់​ដំណើរការ​ប្រជាធិបតេយ្យ​នៅ​កម្ពុជា​និង​ព័ត៌មាន​ផ្សេង​ៗ​ទៀត​៕]\n",
      "\u001b[1mTotal Words:\u001b[0m  52\n",
      "\u001b[1mThe words can not be segmented:\u001b[0m ['។ ', 'ូ ']\n"
     ]
    }
   ],
   "source": [
    "sentence.show()"
   ]
  },
  {
   "cell_type": "code",
   "execution_count": null,
   "metadata": {},
   "outputs": [],
   "source": [
    "sentence.save_segmented_text('output_segmented.csv')"
   ]
  }
 ],
 "metadata": {
  "kernelspec": {
   "display_name": "Python [conda env:base] *",
   "language": "python",
   "name": "conda-base-py"
  },
  "language_info": {
   "codemirror_mode": {
    "name": "ipython",
    "version": 3
   },
   "file_extension": ".py",
   "mimetype": "text/x-python",
   "name": "python",
   "nbconvert_exporter": "python",
   "pygments_lexer": "ipython3",
   "version": "3.12.4"
  }
 },
 "nbformat": 4,
 "nbformat_minor": 4
}
