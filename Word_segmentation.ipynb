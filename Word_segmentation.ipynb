{
 "cells": [
  {
   "cell_type": "code",
   "execution_count": 13,
   "metadata": {},
   "outputs": [],
   "source": [
    "import Khmer_wordsegment"
   ]
  },
  {
   "cell_type": "code",
   "execution_count": 14,
   "metadata": {},
   "outputs": [],
   "source": [
    "text = \"ទឹកត្រីដែលឆ្ងាញ់ គឺធ្វើមកពីត្រីដែលរស់នៅក្នុងទឹកប្រៃ\" "
   ]
  },
  {
   "cell_type": "code",
   "execution_count": 15,
   "metadata": {},
   "outputs": [],
   "source": [
    "sentence = Khmer_wordsegment.AngkorSegmentation(text)"
   ]
  },
  {
   "cell_type": "code",
   "execution_count": 16,
   "metadata": {},
   "outputs": [],
   "source": [
    "d = sentence.check_words()"
   ]
  },
  {
   "cell_type": "code",
   "execution_count": 17,
   "metadata": {},
   "outputs": [
    {
     "name": "stdout",
     "output_type": "stream",
     "text": [
      "['ទឹកត្រី', 'ដែល', 'ឆ្ងាញ់', 'គឺ', 'ធ្វើ', 'មកពី', 'ត្រី', 'ដែល', 'រស់នៅ', 'ក្នុង', 'ទឹកប្រៃ']\n"
     ]
    }
   ],
   "source": [
    "print(d)"
   ]
  },
  {
   "cell_type": "code",
   "execution_count": 18,
   "metadata": {},
   "outputs": [
    {
     "name": "stdout",
     "output_type": "stream",
     "text": [
      "Original Text: ទឹកត្រីដែលឆ្ងាញ់ គឺធ្វើមកពីត្រីដែលរស់នៅក្នុងទឹកប្រៃ\n",
      "Segment: ['ទឹកត្រី', 'ដែល', 'ឆ្ងាញ់', 'គឺ', 'ធ្វើ', 'មកពី', 'ត្រី', 'ដែល', 'រស់នៅ', 'ក្នុង', 'ទឹកប្រៃ']\n",
      "ZeroSpace : [ទឹកត្រី​ដែល​ឆ្ងាញ់​គឺ​ធ្វើ​មកពី​ត្រី​ដែល​រស់នៅ​ក្នុង​ទឹកប្រៃ]\n",
      "Total Words: 11\n"
     ]
    }
   ],
   "source": [
    "sentence.show()"
   ]
  },
  {
   "cell_type": "code",
   "execution_count": null,
   "metadata": {},
   "outputs": [],
   "source": []
  }
 ],
 "metadata": {
  "kernelspec": {
   "display_name": "Python 3",
   "language": "python",
   "name": "python3"
  },
  "language_info": {
   "codemirror_mode": {
    "name": "ipython",
    "version": 3
   },
   "file_extension": ".py",
   "mimetype": "text/x-python",
   "name": "python",
   "nbconvert_exporter": "python",
   "pygments_lexer": "ipython3",
   "version": "3.7.3"
  }
 },
 "nbformat": 4,
 "nbformat_minor": 2
}
